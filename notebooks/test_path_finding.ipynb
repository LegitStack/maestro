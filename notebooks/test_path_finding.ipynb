{
 "cells": [
  {
   "cell_type": "code",
   "execution_count": null,
   "metadata": {},
   "outputs": [],
   "source": [
    "import pandas as pd"
   ]
  },
  {
   "cell_type": "code",
   "execution_count": null,
   "metadata": {},
   "outputs": [],
   "source": [
    "df = pd.read_pickle('C:/repos/maestro/musicians_data/(1, 2, 3, 4, 5, 6, 7, 8, 9, 10, 11, 12, 13, 14, 15, 16, 17, 18, 19, 20).pkl')"
   ]
  },
  {
   "cell_type": "code",
   "execution_count": null,
   "metadata": {},
   "outputs": [],
   "source": [
    "df"
   ]
  },
  {
   "cell_type": "code",
   "execution_count": 1,
   "metadata": {},
   "outputs": [],
   "source": [
    "import maestro\n",
    "from maestro.core import conductor\n",
    "from maestro.simulations import cube"
   ]
  },
  {
   "cell_type": "code",
   "execution_count": 2,
   "metadata": {},
   "outputs": [
    {
     "name": "stdout",
     "output_type": "stream",
     "text": [
      "\n",
      "conductor listening to user input forever\n",
      "\n",
      "maestro> tune\n",
      "\n",
      " tune\n",
      "\n",
      "from:conductor,last state:{1: 'under,state:{1: 'top',,action:{0: 'front,\n",
      "maestro> stop\n",
      "from:conductor,last state:{1: 'front,state:{1: 'front,action:{0: 'back',\n",
      " None\n",
      "\n",
      "maestro> tune\n",
      "\n",
      " tune\n",
      "\n",
      "from:conductor,last state:{1: 'top',,state:{1: 'top',,action:{0: 'front,\n",
      "maestro> stop\n",
      "\n",
      " None\n",
      "\n",
      "from:conductor,last state:{1: 'top',,state:{1: 'under,action:{0: 'top'},\n",
      "maestro> info\n",
      "\n",
      " \n",
      "    maestro system information:\n",
      "\n",
      "    conductor:\n",
      "        mode: sleep\n",
      "        verbosity: True\n",
      "        exit status: False\n",
      "        uptime: coming soon\n",
      "        registry: ['(1, 2, 5, 6, 9, 12, 13, 14, 17, 20, 21, 22):12', '(1, 4, 5, 8, 11, 12, 13, 16, 19, 20, 21, 24):12', '(2, 3, 6, 7, 9, 10, 14, 15, 17, 18, 22, 23):12', '(5, 6, 7, 8, 9, 10, 11, 12, 21, 22, 23, 24):12', '(1, 2, 3, 4, 5, 6, 7, 8, 9, 10, 11, 12):12', '(3, 4, 7, 8, 10, 11, 15, 16, 18, 19, 23, 24):12']\n",
      "        current state: {1: 'under', 2: 'left', 3: 'back', 4: 'top', 5: 'front', 6: 'left', 7: 'back', 8: 'front', 9: 'under', 10: 'back', 11: 'under', 12: 'under', 13: 'right', 14: 'left', 15: 'back', 16: 'left', 17: 'right', 18: 'right', 19: 'front', 20: 'top', 21: 'top', 22: 'front', 23: 'top', 24: 'right'}\n",
      "        latest action: {0: 'top'}\n",
      "\n",
      "    musicians:\n",
      "        busy musicians: []\n",
      "        musicians memory: ['(1, 2, 5, 6, 9, 12, 13, 14, 17, 20, 21, 22):16 ', '(1, 4, 5, 8, 11, 12, 13, 16, 19, 20, 21, 24):17 ', '(2, 3, 6, 7, 9, 10, 14, 15, 17, 18, 22, 23):17 ', '(5, 6, 7, 8, 9, 10, 11, 12, 21, 22, 23, 24):19 ', '(1, 2, 3, 4, 5, 6, 7, 8, 9, 10, 11, 12):19 ', '(3, 4, 7, 8, 10, 11, 15, 16, 18, 19, 23, 24):18 ']\n",
      "\n",
      "    environment:\n",
      "        name: Rubiks_Cube_2x2\n",
      "        env: <maestro.simulations.cube.RubiksCubeTwo object at 0x000001DFC10F76D8>\n",
      "        state indicies: [1, 2, 3, 4, 5, 6, 7, 8, 9, 10, 11, 12, 13, 14, 15, 16, 17, 18, 19, 20, 21, 22, 23, 24]\n",
      "        available actions: [{0: 'top'}, {0: 'under'}, {0: 'right'}, {0: 'left'}, {0: 'front'}, {0: 'back'}]\n",
      "\n",
      "    \n",
      "\n",
      "maestro> exit\n",
      "\n",
      "shutting down main_loop thread\n"
     ]
    },
    {
     "ename": "SystemExit",
     "evalue": "",
     "output_type": "error",
     "traceback": [
      "An exception has occurred, use %tb to see the full traceback.\n",
      "\u001b[1;31mSystemExit\u001b[0m\n"
     ]
    },
    {
     "name": "stderr",
     "output_type": "stream",
     "text": [
      "C:\\ProgramData\\Anaconda3\\lib\\site-packages\\IPython\\core\\interactiveshell.py:2969: UserWarning: To exit: use 'exit', 'quit', or Ctrl-D.\n",
      "  warn(\"To exit: use 'exit', 'quit', or Ctrl-D.\", stacklevel=1)\n"
     ]
    }
   ],
   "source": [
    "conductor_node = conductor.ConductorNode(\n",
    "    environment=cube.RubiksCubeTwo(),\n",
    "    verbose=True)"
   ]
  },
  {
   "cell_type": "code",
   "execution_count": null,
   "metadata": {},
   "outputs": [],
   "source": []
  }
 ],
 "metadata": {
  "kernelspec": {
   "display_name": "Python 3",
   "language": "python",
   "name": "python3"
  },
  "language_info": {
   "codemirror_mode": {
    "name": "ipython",
    "version": 3
   },
   "file_extension": ".py",
   "mimetype": "text/x-python",
   "name": "python",
   "nbconvert_exporter": "python",
   "pygments_lexer": "ipython3",
   "version": "3.6.6"
  }
 },
 "nbformat": 4,
 "nbformat_minor": 2
}
